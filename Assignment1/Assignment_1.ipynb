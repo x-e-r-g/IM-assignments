{
  "nbformat": 4,
  "nbformat_minor": 0,
  "metadata": {
    "colab": {
      "name": "Assignment_1.ipynb",
      "provenance": []
    },
    "kernelspec": {
      "name": "python3",
      "display_name": "Python 3"
    },
    "language_info": {
      "name": "python"
    }
  },
  "cells": [
    {
      "cell_type": "markdown",
      "metadata": {
        "id": "jutorv7R5hvY"
      },
      "source": [
        "#Imports"
      ]
    },
    {
      "cell_type": "code",
      "metadata": {
        "id": "V7OIDDB83vmC"
      },
      "source": [
        "import math\n",
        "import matplotlib.pyplot as plt"
      ],
      "execution_count": 21,
      "outputs": []
    },
    {
      "cell_type": "markdown",
      "metadata": {
        "id": "J4SRpRHI5k2l"
      },
      "source": [
        "# Function Declaration"
      ]
    },
    {
      "cell_type": "code",
      "metadata": {
        "id": "0tBq_o9S3Y0V"
      },
      "source": [
        "def logarithmic (n):\n",
        "  x_list = []\n",
        "  y_list = []\n",
        "  for i in range(1, n+1):\n",
        "    x_list.append(i)\n",
        "    y_list.append(math.log(i))\n",
        "  return x_list, y_list\n",
        "\n",
        "def linear(n):\n",
        "  x_list = []\n",
        "  y_list = []\n",
        "  for i in range(1, n+1):\n",
        "    x_list.append(i)\n",
        "    y_list.append(i)\n",
        "  return x_list, y_list\n",
        "\n",
        "def quadratic(n):\n",
        "  x_list = []\n",
        "  y_list = []\n",
        "  for i in range(1, n+1):\n",
        "    x_list.append(i)\n",
        "    y_list.append(i**2)\n",
        "  return x_list, y_list\n",
        "\n",
        "def cubic(n):\n",
        "  x_list = []\n",
        "  y_list = []\n",
        "  for i in range(1, n+1):\n",
        "    x_list.append(i)\n",
        "    y_list.append(i**3)\n",
        "  return x_list, y_list\n",
        "\n",
        "def polynomial(n, k):\n",
        "  x_list = []\n",
        "  y_list = []\n",
        "  for i in range(1, n+1):\n",
        "    x_list.append(i)\n",
        "    y_list.append(i**k)\n",
        "  return x_list, y_list"
      ],
      "execution_count": 27,
      "outputs": []
    },
    {
      "cell_type": "markdown",
      "metadata": {
        "id": "X9mh6fk95ryI"
      },
      "source": [
        "# Plots"
      ]
    },
    {
      "cell_type": "code",
      "metadata": {
        "colab": {
          "base_uri": "https://localhost:8080/",
          "height": 282
        },
        "id": "MFK3jZi25tvT",
        "outputId": "4e6a35f2-626f-4ffe-bda8-71802a1a4e12"
      },
      "source": [
        "x1, y1 = logarithmic(7)\n",
        "# plotting the line 1 points \n",
        "plt.plot(x1, y1, label = \"logarithmic\")\n",
        "# line 2 points\n",
        "x2, y2 = linear(7)\n",
        "# plotting the line 2 points \n",
        "plt.plot(x2, y2, label = \"linear\")\n",
        "# line 2 points\n",
        "x3, y3 = quadratic(7)\n",
        "# plotting the line 2 points \n",
        "plt.plot(x3, y3, label = \"quadratic\")\n",
        "x4, y4 = cubic(7)\n",
        "# plotting the line 2 points \n",
        "plt.plot(x4, y4, label = \"cubic\")\n",
        "x5, y5 = polynomial(7, 4)\n",
        "# plotting the line 2 points \n",
        "plt.plot(x5, y5, label = \"polynomial\")\n",
        "\n",
        "plt.xlabel('x - axis')\n",
        "# Set the y axis label of the current axis.\n",
        "plt.ylabel('y - axis')\n",
        "# show a legend on the plot\n",
        "plt.legend()\n",
        "# Display a figure.\n",
        "plt.show()"
      ],
      "execution_count": 32,
      "outputs": [
        {
          "output_type": "display_data",
          "data": {
            "image/png": "[encoded data removed]",
            "text/plain": [
              "<Figure size 432x288 with 1 Axes>"
            ]
          },
          "metadata": {
            "tags": [],
            "needs_background": "light"
          }
        }
      ]
    }
  ]
}